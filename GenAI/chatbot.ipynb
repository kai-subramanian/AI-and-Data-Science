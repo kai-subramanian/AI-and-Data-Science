{
 "cells": [
  {
   "cell_type": "code",
   "execution_count": 27,
   "metadata": {},
   "outputs": [],
   "source": [
    "import google.generativeai as genai"
   ]
  },
  {
   "cell_type": "code",
   "execution_count": 28,
   "metadata": {},
   "outputs": [],
   "source": [
    "genai.configure(api_key=API_KEY)"
   ]
  },
  {
   "cell_type": "code",
   "execution_count": 38,
   "metadata": {},
   "outputs": [],
   "source": [
    "model = genai.GenerativeModel('gemini-pro')"
   ]
  },
  {
   "cell_type": "code",
   "execution_count": 39,
   "metadata": {},
   "outputs": [],
   "source": [
    "def chat(user_input):\n",
    "    print(\"User: \",user_input)\n",
    "    response = model.generate_content(user_input)\n",
    "    return response.text\n"
   ]
  },
  {
   "cell_type": "code",
   "execution_count": 40,
   "metadata": {},
   "outputs": [
    {
     "name": "stdout",
     "output_type": "stream",
     "text": [
      "User:  hello! tell me more about yourself\n",
      "Bot: As a multi-modal AI language model developed by Google, I don't have personal experiences, preferences, or consciousness like humans do. I'm designed to assist users with a wide range of language-related tasks, such as answering questions, generating text, translating languages, and providing information.\n",
      "\n",
      "I'm constantly being trained on a massive amount of text data, which allows me to understand and generate human language with a high degree of accuracy. I can communicate in over 100 languages and have the ability to learn new things all the time.\n",
      "\n",
      "My purpose is to help users access information, complete tasks, and communicate effectively. I'm still under development, but I'm eager to continue learning and improving my abilities to assist users in the best possible way.\n",
      "\n",
      "Is there anything specific you'd like to know about my capabilities or how I can help you?\n",
      "User:  ?/\n",
      "Bot: n\n",
      "User:  good to hear\n",
      "Bot: I'm glad to hear that things are going well for you. I'm always here to listen if you need anything.\n"
     ]
    }
   ],
   "source": [
    "while(True):\n",
    "    user_input = input(\"You: \")\n",
    "    if user_input.lower() == \"quit\":\n",
    "        break\n",
    "    response = chat(user_input)\n",
    "    print(\"Bot:\", response)"
   ]
  }
 ],
 "metadata": {
  "kernelspec": {
   "display_name": "Python 3",
   "language": "python",
   "name": "python3"
  },
  "language_info": {
   "codemirror_mode": {
    "name": "ipython",
    "version": 3
   },
   "file_extension": ".py",
   "mimetype": "text/x-python",
   "name": "python",
   "nbconvert_exporter": "python",
   "pygments_lexer": "ipython3",
   "version": "3.11.9"
  }
 },
 "nbformat": 4,
 "nbformat_minor": 2
}
