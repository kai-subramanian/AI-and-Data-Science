{
 "cells": [
  {
   "cell_type": "markdown",
   "metadata": {},
   "source": [
    "Code to demonstrate gradient descent"
   ]
  },
  {
   "cell_type": "code",
   "execution_count": 1,
   "metadata": {},
   "outputs": [],
   "source": [
    "current_x = 5\n",
    "rate = 0.1 \n",
    "alpha = 0.5\n",
    "previous_step_size = 1\n",
    "max_iter = 1000000\n",
    "curr_iter = 0"
   ]
  },
  {
   "cell_type": "code",
   "execution_count": 2,
   "metadata": {},
   "outputs": [],
   "source": [
    "df = lambda x: 2*(x+5)"
   ]
  },
  {
   "cell_type": "code",
   "execution_count": 3,
   "metadata": {},
   "outputs": [
    {
     "name": "stdout",
     "output_type": "stream",
     "text": [
      "Iteration  1  value is :  3.0\n",
      "Iteration  2  value is :  1.4\n",
      "Iteration  3  value is :  0.11999999999999966\n",
      "Iteration  4  value is :  -0.9040000000000001\n",
      "Iteration  5  value is :  -1.7232000000000003\n",
      "Iteration  6  value is :  -2.3785600000000002\n",
      "Iteration  7  value is :  -2.902848\n",
      "Iteration  8  value is :  -3.3222784\n"
     ]
    }
   ],
   "source": [
    "while previous_step_size > alpha and curr_iter < max_iter:\n",
    "    prev_x = current_x\n",
    "    current_x = current_x - rate * df(prev_x)\n",
    "    previous_step_size = abs(current_x - prev_x)\n",
    "    curr_iter = curr_iter + 1\n",
    "    print(\"Iteration \",curr_iter,\" value is : \",current_x)"
   ]
  },
  {
   "cell_type": "code",
   "execution_count": 4,
   "metadata": {},
   "outputs": [
    {
     "name": "stdout",
     "output_type": "stream",
     "text": [
      "local minima occurs at  -3.3222784\n"
     ]
    }
   ],
   "source": [
    "print(\"local minima occurs at \",current_x)"
   ]
  }
 ],
 "metadata": {
  "kernelspec": {
   "display_name": "Python 3",
   "language": "python",
   "name": "python3"
  },
  "language_info": {
   "codemirror_mode": {
    "name": "ipython",
    "version": 3
   },
   "file_extension": ".py",
   "mimetype": "text/x-python",
   "name": "python",
   "nbconvert_exporter": "python",
   "pygments_lexer": "ipython3",
   "version": "3.12.0"
  }
 },
 "nbformat": 4,
 "nbformat_minor": 2
}
